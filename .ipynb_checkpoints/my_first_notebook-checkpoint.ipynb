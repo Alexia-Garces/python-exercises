{
 "cells": [
  {
   "cell_type": "code",
   "execution_count": 1,
   "id": "44b1755b",
   "metadata": {},
   "outputs": [
    {
     "data": {
      "text/plain": [
       "int"
      ]
     },
     "execution_count": 1,
     "metadata": {},
     "output_type": "execute_result"
    }
   ],
   "source": [
    "type(123)"
   ]
  },
  {
   "cell_type": "code",
   "execution_count": 3,
   "id": "315d1bc7",
   "metadata": {},
   "outputs": [
    {
     "data": {
      "text/plain": [
       "str"
      ]
     },
     "execution_count": 3,
     "metadata": {},
     "output_type": "execute_result"
    }
   ],
   "source": [
    "type(\"hello\")"
   ]
  },
  {
   "cell_type": "code",
   "execution_count": 6,
   "id": "fabc6a65",
   "metadata": {},
   "outputs": [
    {
     "data": {
      "text/plain": [
       "bool"
      ]
     },
     "execution_count": 6,
     "metadata": {},
     "output_type": "execute_result"
    }
   ],
   "source": [
    "type(True)"
   ]
  },
  {
   "cell_type": "markdown",
   "id": "ad6e552f",
   "metadata": {},
   "source": [
    "#Jupyter Notebook Shortcuts\n",
    "1.  command + z = undo\n",
    "2.  command + y = redo\n",
    "3.  command + b = insert cell below\n",
    "4.  command + a = insert cell above"
   ]
  },
  {
   "cell_type": "code",
   "execution_count": 7,
   "id": "ece2b270",
   "metadata": {},
   "outputs": [
    {
     "name": "stdout",
     "output_type": "stream",
     "text": [
      "Collecting pydataset\n",
      "  Downloading pydataset-0.2.0.tar.gz (15.9 MB)\n",
      "\u001b[K     |████████████████████████████████| 15.9 MB 3.3 MB/s eta 0:00:01\n",
      "\u001b[?25hRequirement already satisfied: pandas in /opt/homebrew/anaconda3/lib/python3.8/site-packages (from pydataset) (1.2.4)\n",
      "Requirement already satisfied: python-dateutil>=2.7.3 in /opt/homebrew/anaconda3/lib/python3.8/site-packages (from pandas->pydataset) (2.8.1)\n",
      "Requirement already satisfied: pytz>=2017.3 in /opt/homebrew/anaconda3/lib/python3.8/site-packages (from pandas->pydataset) (2021.1)\n",
      "Requirement already satisfied: numpy>=1.16.5 in /opt/homebrew/anaconda3/lib/python3.8/site-packages (from pandas->pydataset) (1.20.1)\n",
      "Requirement already satisfied: six>=1.5 in /opt/homebrew/anaconda3/lib/python3.8/site-packages (from python-dateutil>=2.7.3->pandas->pydataset) (1.15.0)\n",
      "Building wheels for collected packages: pydataset\n",
      "  Building wheel for pydataset (setup.py) ... \u001b[?25ldone\n",
      "\u001b[?25h  Created wheel for pydataset: filename=pydataset-0.2.0-py3-none-any.whl size=15939431 sha256=9783cf7d8802f0bb65a1bc05af53d39c59684e2aec1d5604b9688f08e0ea31d5\n",
      "  Stored in directory: /Users/alexiagarces/Library/Caches/pip/wheels/d7/e5/36/85d319586b4a405d001029d489102f526ce5546248c295932a\n",
      "Successfully built pydataset\n",
      "Installing collected packages: pydataset\n",
      "Successfully installed pydataset-0.2.0\n",
      "Note: you may need to restart the kernel to use updated packages.\n"
     ]
    }
   ],
   "source": [
    "pip install pydataset"
   ]
  },
  {
   "cell_type": "code",
   "execution_count": null,
   "id": "bfe66764",
   "metadata": {},
   "outputs": [],
   "source": []
  }
 ],
 "metadata": {
  "kernelspec": {
   "display_name": "Python 3",
   "language": "python",
   "name": "python3"
  },
  "language_info": {
   "codemirror_mode": {
    "name": "ipython",
    "version": 3
   },
   "file_extension": ".py",
   "mimetype": "text/x-python",
   "name": "python",
   "nbconvert_exporter": "python",
   "pygments_lexer": "ipython3",
   "version": "3.8.8"
  }
 },
 "nbformat": 4,
 "nbformat_minor": 5
}
