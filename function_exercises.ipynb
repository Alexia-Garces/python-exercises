{
 "cells": [
  {
   "cell_type": "markdown",
   "id": "6cdd9e42",
   "metadata": {},
   "source": [
    "# Python Function Exercises"
   ]
  },
  {
   "cell_type": "code",
   "execution_count": 8,
   "id": "e5fd9882",
   "metadata": {},
   "outputs": [
    {
     "data": {
      "text/plain": [
       "True"
      ]
     },
     "execution_count": 8,
     "metadata": {},
     "output_type": "execute_result"
    }
   ],
   "source": [
    "# 1.  Define a function named is_two. \n",
    "# It should accept one input and return True if the passed input is either the number or the string 2, \n",
    "# False otherwise.\n",
    "\n",
    "def is_two(x):\n",
    "    return x == 2 or \"2\"\n",
    "is_two(2.0)"
   ]
  },
  {
   "cell_type": "code",
   "execution_count": 41,
   "id": "2995fb77",
   "metadata": {},
   "outputs": [
    {
     "data": {
      "text/plain": [
       "False"
      ]
     },
     "execution_count": 41,
     "metadata": {},
     "output_type": "execute_result"
    }
   ],
   "source": [
    "# 2. Define a function named is_vowel. It should return True if the passed string is a vowel, False otherwise.\n",
    "def is_vowel(x):\n",
    "    return x == \"a\" or x == \"e\" or x == \"i\" or x == \"o\" or x == \"u\" or x == \"A\" or x == \"E\" or x == \"I\" or x == \"O\" or x == \"U\" \n",
    "is_vowel(\"A\")\n",
    "is_vowel(\"b\")\n",
    "    "
   ]
  },
  {
   "cell_type": "code",
   "execution_count": 37,
   "id": "5cf6203a",
   "metadata": {},
   "outputs": [
    {
     "data": {
      "text/plain": [
       "True"
      ]
     },
     "execution_count": 37,
     "metadata": {},
     "output_type": "execute_result"
    }
   ],
   "source": [
    "# 3.  Define a function named is_consonant. \n",
    "# It should return True if the passed string is a consonant, False otherwise. \n",
    "#Use your is_vowel function to accomplish this.\n",
    "def is_consonant(x):\n",
    "    return x.isalpha() and not is_vowel(x)\n",
    "is_consonant(\"f\")"
   ]
  },
  {
   "cell_type": "code",
   "execution_count": 43,
   "id": "f297095a",
   "metadata": {},
   "outputs": [
    {
     "data": {
      "text/plain": [
       "'Candle'"
      ]
     },
     "execution_count": 43,
     "metadata": {},
     "output_type": "execute_result"
    }
   ],
   "source": [
    "# 4. Define a function that accepts a string that is a word. \n",
    "#The function should capitalize the first letter of the word if the word starts with a consonant.\n",
    "\n",
    "def capitalize_first_consonant(word):\n",
    "    first_letter = word[0]\n",
    "    if is_consonant(first_letter):\n",
    "        return word.capitalize()\n",
    "    else:\n",
    "        return word\n",
    "\n",
    "capitalize_first_consonant(\"candle\")"
   ]
  },
  {
   "cell_type": "code",
   "execution_count": 54,
   "id": "13268984",
   "metadata": {},
   "outputs": [
    {
     "data": {
      "text/plain": [
       "18.0"
      ]
     },
     "execution_count": 54,
     "metadata": {},
     "output_type": "execute_result"
    }
   ],
   "source": [
    "# 5.  Define a function named calculate_tip. \n",
    "# It should accept a tip percentage (a number between 0 and 1) and the bill total, and return the amount to tip.\n",
    "\n",
    "def calculate_tip(tip_percentage,total):\n",
    "    return tip_percentage * total\n",
    "\n",
    "calculate_tip(.3, 60)"
   ]
  },
  {
   "cell_type": "code",
   "execution_count": 55,
   "id": "c26b6d49",
   "metadata": {},
   "outputs": [
    {
     "data": {
      "text/plain": [
       "37.5"
      ]
     },
     "execution_count": 55,
     "metadata": {},
     "output_type": "execute_result"
    }
   ],
   "source": [
    "# 6. Define a function named apply_discount. \n",
    "#It should accept a original price, and a discount percentage, and return the price after the discount is applied.\n",
    "\n",
    "def apply_discount(original_price, discount_percentage):\n",
    "    return original_price - (original_price * discount_percentage)\n",
    "\n",
    "apply_discount(50, .25)"
   ]
  },
  {
   "cell_type": "code",
   "execution_count": 63,
   "id": "ab6a11b0",
   "metadata": {},
   "outputs": [
    {
     "ename": "TypeError",
     "evalue": "handle_commas() takes 1 positional argument but 3 were given",
     "output_type": "error",
     "traceback": [
      "\u001b[0;31m---------------------------------------------------------------------------\u001b[0m",
      "\u001b[0;31mTypeError\u001b[0m                                 Traceback (most recent call last)",
      "\u001b[0;32m<ipython-input-63-5ad47860830a>\u001b[0m in \u001b[0;36m<module>\u001b[0;34m\u001b[0m\n\u001b[1;32m      5\u001b[0m     \u001b[0;32mreturn\u001b[0m \u001b[0mnumber_with_commas\u001b[0m\u001b[0;34m.\u001b[0m\u001b[0mreplace\u001b[0m\u001b[0;34m(\u001b[0m\u001b[0;34m','\u001b[0m\u001b[0;34m,\u001b[0m\u001b[0;34m\"\"\u001b[0m\u001b[0;34m)\u001b[0m\u001b[0;34m\u001b[0m\u001b[0;34m\u001b[0m\u001b[0m\n\u001b[1;32m      6\u001b[0m \u001b[0;34m\u001b[0m\u001b[0m\n\u001b[0;32m----> 7\u001b[0;31m \u001b[0mhandle_commas\u001b[0m\u001b[0;34m(\u001b[0m\u001b[0;36m1\u001b[0m\u001b[0;34m,\u001b[0m\u001b[0;36m000\u001b[0m\u001b[0;34m,\u001b[0m\u001b[0;36m000\u001b[0m\u001b[0;34m)\u001b[0m\u001b[0;34m\u001b[0m\u001b[0;34m\u001b[0m\u001b[0m\n\u001b[0m",
      "\u001b[0;31mTypeError\u001b[0m: handle_commas() takes 1 positional argument but 3 were given"
     ]
    }
   ],
   "source": [
    "# 7.  Define a function named handle_commas. \n",
    "# It should accept a string that is a number that contains commas in it as input, and return a number as output.\n",
    "\n",
    "def handle_commas(number_with_commas):\n",
    "    return: number_with_commas.replace(',',\"\")\n",
    "\n",
    "handle_commas(1,000,000)"
   ]
  },
  {
   "cell_type": "code",
   "execution_count": 66,
   "id": "76e4d441",
   "metadata": {},
   "outputs": [
    {
     "data": {
      "text/plain": [
       "'B'"
      ]
     },
     "execution_count": 66,
     "metadata": {},
     "output_type": "execute_result"
    }
   ],
   "source": [
    "# 8. \n",
    "number = 85\n",
    "if number <= 69:\n",
    "    grade = \"F\"\n",
    "elif number <= 79:\n",
    "    grad = \"C\"\n",
    "elif number <= 89:\n",
    "    grade = \"B\"\n",
    "else:\n",
    "    grade = \"A\"\n",
    "\n",
    "grade"
   ]
  },
  {
   "cell_type": "code",
   "execution_count": null,
   "id": "f5dee890",
   "metadata": {},
   "outputs": [],
   "source": []
  }
 ],
 "metadata": {
  "kernelspec": {
   "display_name": "Python 3",
   "language": "python",
   "name": "python3"
  },
  "language_info": {
   "codemirror_mode": {
    "name": "ipython",
    "version": 3
   },
   "file_extension": ".py",
   "mimetype": "text/x-python",
   "name": "python",
   "nbconvert_exporter": "python",
   "pygments_lexer": "ipython3",
   "version": "3.8.8"
  }
 },
 "nbformat": 4,
 "nbformat_minor": 5
}
