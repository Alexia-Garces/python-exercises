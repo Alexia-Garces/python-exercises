{
 "cells": [
  {
   "cell_type": "code",
   "execution_count": 16,
   "id": "bd71271a",
   "metadata": {},
   "outputs": [
    {
     "name": "stdout",
     "output_type": "stream",
     "text": [
      "What is the day of the week?sunday\n",
      "No, today is Monday\n",
      "weekend\n"
     ]
    }
   ],
   "source": [
    "# 1.  Conditional Basics\n",
    "\n",
    "# 1.a.  prompt the user for a day of the week, print out whether the day is Monday or not \n",
    "day_of_the_week = input(\"What is the day of the week?\")\n",
    "if day_of_the_week.lower() == \"monday\":\n",
    "    print(\"Yes, the day of the week is Monday\")\n",
    "else:\n",
    "    print(\"No, today is Monday\")\n",
    "# 1.b.  prompt the user for a day of the week, print out whether the day is a weekday or a weekend\n",
    "if day_of_the_week.lower().startswith('s'):\n",
    "    print(\"weekend\")\n",
    "else:\n",
    "    print(\"weekday\")\n"
   ]
  },
  {
   "cell_type": "code",
   "execution_count": null,
   "id": "a03e0ebc",
   "metadata": {},
   "outputs": [],
   "source": []
  },
  {
   "cell_type": "code",
   "execution_count": null,
   "id": "f22ecd4c",
   "metadata": {},
   "outputs": [],
   "source": []
  },
  {
   "cell_type": "code",
   "execution_count": null,
   "id": "010bec02",
   "metadata": {},
   "outputs": [],
   "source": []
  }
 ],
 "metadata": {
  "kernelspec": {
   "display_name": "Python 3",
   "language": "python",
   "name": "python3"
  },
  "language_info": {
   "codemirror_mode": {
    "name": "ipython",
    "version": 3
   },
   "file_extension": ".py",
   "mimetype": "text/x-python",
   "name": "python",
   "nbconvert_exporter": "python",
   "pygments_lexer": "ipython3",
   "version": "3.8.8"
  }
 },
 "nbformat": 4,
 "nbformat_minor": 5
}
