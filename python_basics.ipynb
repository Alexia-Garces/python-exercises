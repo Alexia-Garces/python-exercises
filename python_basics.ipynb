{
  "nbformat": 4,
  "nbformat_minor": 0,
  "metadata": {
    "colab": {
      "name": "python_basics.ipynb",
      "provenance": [],
      "authorship_tag": "ABX9TyOOh8Q0HGaSIqbh13XGqmNs",
      "include_colab_link": true
    },
    "kernelspec": {
      "name": "python3",
      "display_name": "Python 3"
    },
    "language_info": {
      "name": "python"
    }
  },
  "cells": [
    {
      "cell_type": "markdown",
      "metadata": {
        "id": "view-in-github",
        "colab_type": "text"
      },
      "source": [
        "<a href=\"https://colab.research.google.com/github/Alexia-Garces/python-exercises/blob/main/python_basics.ipynb\" target=\"_parent\"><img src=\"https://colab.research.google.com/assets/colab-badge.svg\" alt=\"Open In Colab\"/></a>"
      ]
    },
    {
      "cell_type": "markdown",
      "source": [
        "**How the code behaves depends on the data type!**\n",
        "Addition with a string vs integer data type"
      ],
      "metadata": {
        "id": "FKg1OmYyiRK7"
      }
    },
    {
      "cell_type": "code",
      "execution_count": null,
      "metadata": {
        "colab": {
          "base_uri": "https://localhost:8080/"
        },
        "id": "_IPk7v_ye-ui",
        "outputId": "3ad8998f-3a98-4dd5-b038-8f1b0cb9fc6e"
      },
      "outputs": [
        {
          "output_type": "execute_result",
          "data": {
            "text/plain": [
              "8"
            ]
          },
          "metadata": {},
          "execution_count": 1
        }
      ],
      "source": [
        "#integers\n",
        "3+5 "
      ]
    },
    {
      "cell_type": "code",
      "source": [
        "#strings\n",
        "'ab' + 'cd'"
      ],
      "metadata": {
        "colab": {
          "base_uri": "https://localhost:8080/",
          "height": 35
        },
        "id": "wM1M1DB9ifIR",
        "outputId": "cea57602-a8e8-4cd9-c04f-bc8021b8dfd9"
      },
      "execution_count": null,
      "outputs": [
        {
          "output_type": "execute_result",
          "data": {
            "application/vnd.google.colaboratory.intrinsic+json": {
              "type": "string"
            },
            "text/plain": [
              "'abcd'"
            ]
          },
          "metadata": {},
          "execution_count": 3
        }
      ]
    },
    {
      "cell_type": "markdown",
      "source": [
        "# Variable Assignment\n",
        "**Remember, = in Python means assignment, it doesn't test equality!**"
      ],
      "metadata": {
        "id": "-QmqQoq-jq13"
      }
    },
    {
      "cell_type": "code",
      "source": [
        "# Create a variable savings\n",
        "savings = 100\n",
        "\n",
        "# Print out savings\n",
        "print(savings)"
      ],
      "metadata": {
        "colab": {
          "base_uri": "https://localhost:8080/"
        },
        "id": "iHxiOm9fiiOx",
        "outputId": "06b1d107-cc3f-4cd5-9350-8d372e2b0a6a"
      },
      "execution_count": null,
      "outputs": [
        {
          "output_type": "stream",
          "name": "stdout",
          "text": [
            "100\n"
          ]
        }
      ]
    },
    {
      "cell_type": "markdown",
      "source": [
        "Calculations with variables\n",
        "Remember how you calculated the money you ended up with after 7 years of investing $100? You did something like this:\n",
        "\n",
        "100 * 1.1 ** 7\n",
        "\n",
        "*Instead of calculating with the actual values, you can use variables instead* \n",
        "\n",
        "The savings variable you've created in the previous exercise represents the $100 you started with. It's up to you to create a new variable to represent 1.1 and then redo the calculations!"
      ],
      "metadata": {
        "id": "B84_OTnukNDi"
      }
    },
    {
      "cell_type": "code",
      "source": [
        "# Create a variable savings\n",
        "savings = 100\n",
        "\n",
        "# Create a variable growth_multiplier\n",
        "growth_multiplier = 1.1\n",
        "\n",
        "# Calculate result\n",
        "result = savings * growth_multiplier ** 7\n",
        "\n",
        "# Print out result\n",
        "print(result)"
      ],
      "metadata": {
        "colab": {
          "base_uri": "https://localhost:8080/"
        },
        "id": "VF7cTuV2kcVH",
        "outputId": "8bccab59-da2b-4a50-ff1b-c3694d50b429"
      },
      "execution_count": null,
      "outputs": [
        {
          "output_type": "stream",
          "name": "stdout",
          "text": [
            "194.87171000000012\n"
          ]
        }
      ]
    },
    {
      "cell_type": "markdown",
      "source": [
        "#Other variable types\n",
        "\n",
        "In the previous exercise, you worked with two Python data types:\n",
        "\n",
        "*   int, or integer: a number without a fractional part. savings, with the value 100, is an example of an integer.\n",
        "*   float, or floating point: a number that has both an integer and fractional part, separated by a point. growth_multiplier, with the value 1.1, is an example of a float.\n",
        "\n",
        "Next to numerical data types, there are two other very common data types:\n",
        "\n",
        "*   str, or string: a type to represent text. You can use single or double quotes to build a string.\n",
        "*  bool, or boolean: a type to represent logical values. Can only be True or False (the capitalization is important!)."
      ],
      "metadata": {
        "id": "WNVkhX0Xk_Oo"
      }
    },
    {
      "cell_type": "code",
      "source": [
        "# Create a variable desc\n",
        "desc = \"compound interest\"\n",
        "\n",
        "# Create a variable profitable\n",
        "profitable = True"
      ],
      "metadata": {
        "id": "EvISsLkiktWo"
      },
      "execution_count": null,
      "outputs": []
    },
    {
      "cell_type": "markdown",
      "source": [
        "When you sum two strings, for example, you'll get different behavior than when you sum two integers or two booleans.\n",
        "\n",
        "In the script some variables with different types have already been created. It's up to you to use them.\n",
        "\n",
        "\n",
        "\n",
        "*   Calculate the product of savings and growth_multiplier. Store the result in year1.\n",
        "*   What do you think the resulting type will be? Find out by printing out the type of year1.\n",
        "\n",
        "*   Calculate the sum of desc and desc and store the result in a new variable doubledesc.\n",
        "*   Print out doubledesc. Did you expect this?\n",
        "\n",
        "\n"
      ],
      "metadata": {
        "id": "ga-oQOlmmTPL"
      }
    },
    {
      "cell_type": "code",
      "source": [
        "savings = 100\n",
        "growth_multiplier = 1.1\n",
        "desc = \"compound interest\"\n",
        "\n",
        "# Assign product of growth_multiplier and savings to year1\n",
        "year1 = growth_multiplier * savings\n",
        "\n",
        "# Print the type of year1\n",
        "print(type(year1))\n",
        "\n",
        "# Assign sum of desc and desc to doubledesc\n",
        "doubledesc = desc + desc\n",
        "\n",
        "# Print out doubledesc\n",
        "print(doubledesc)"
      ],
      "metadata": {
        "colab": {
          "base_uri": "https://localhost:8080/"
        },
        "id": "i_07NrBOmBEq",
        "outputId": "441af70b-77ea-4fba-87f6-8b2d8c8ae0fd"
      },
      "execution_count": null,
      "outputs": [
        {
          "output_type": "stream",
          "name": "stdout",
          "text": [
            "<class 'float'>\n",
            "compound interestcompound interest\n"
          ]
        }
      ]
    },
    {
      "cell_type": "markdown",
      "source": [
        "#Type conversion\n",
        "Using the + operator to paste together two strings can be very useful in building custom messages.\n",
        "\n",
        "Suppose, for example, that you've calculated the return of your investment and want to summarize the results in a string. Assuming the integer savings and float result are defined, you can try something like this:\n",
        "\n",
        "print(\"I started with $\" + savings + \" and now have $\" + result + \". Awesome!\")\n",
        "\n",
        "*This will not work, though, as you cannot simply sum strings and integers/floats.*\n",
        "\n",
        "To fix the error, you'll need to explicitly convert the types of your variables. More specifically, you'll need str(), to convert a value into a string. str(savings), for example, will convert the integer savings to a string.\n",
        "\n",
        "Similar functions such as int(), float() and bool() will help you convert Python values into any type."
      ],
      "metadata": {
        "id": "L2UpBaNEncI9"
      }
    },
    {
      "cell_type": "code",
      "source": [
        "# Definition of savings and result\n",
        "savings = 100\n",
        "result = 100 * 1.10 ** 7\n",
        "\n",
        "# Fix the printout\n",
        "print(\"I started with $\" + str(savings) + \" and now have $\" + str(result) + \". Awesome!\")\n",
        "\n",
        "# Definition of pi_string\n",
        "pi_string = \"3.1415926\"\n",
        "\n",
        "# Convert pi_string into float: pi_float\n",
        "pi_float = float(pi_string)"
      ],
      "metadata": {
        "colab": {
          "base_uri": "https://localhost:8080/"
        },
        "id": "657bYKzTnW_R",
        "outputId": "3ea427a4-6065-4a22-9578-b85d3146f8e0"
      },
      "execution_count": null,
      "outputs": [
        {
          "output_type": "stream",
          "name": "stdout",
          "text": [
            "I started with $100 and now have $194.87171000000012. Awesome!\n"
          ]
        }
      ]
    },
    {
      "cell_type": "code",
      "source": [
        ""
      ],
      "metadata": {
        "id": "atFx81bCmCFo"
      },
      "execution_count": null,
      "outputs": []
    }
  ]
}