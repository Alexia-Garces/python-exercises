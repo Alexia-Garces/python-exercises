{
  "nbformat": 4,
  "nbformat_minor": 0,
  "metadata": {
    "colab": {
      "name": "python_basics.ipynb",
      "provenance": [],
      "authorship_tag": "ABX9TyNvu2TyoZ4pyz0Y0yiJwDyY",
      "include_colab_link": true
    },
    "kernelspec": {
      "name": "python3",
      "display_name": "Python 3"
    },
    "language_info": {
      "name": "python"
    }
  },
  "cells": [
    {
      "cell_type": "markdown",
      "metadata": {
        "id": "view-in-github",
        "colab_type": "text"
      },
      "source": [
        "<a href=\"https://colab.research.google.com/github/Alexia-Garces/python-exercises/blob/main/python_basics.ipynb\" target=\"_parent\"><img src=\"https://colab.research.google.com/assets/colab-badge.svg\" alt=\"Open In Colab\"/></a>"
      ]
    },
    {
      "cell_type": "markdown",
      "source": [
        "**How the code behaves depends on the data type!**\n",
        "Addition with a string vs integer data type"
      ],
      "metadata": {
        "id": "FKg1OmYyiRK7"
      }
    },
    {
      "cell_type": "code",
      "execution_count": null,
      "metadata": {
        "colab": {
          "base_uri": "https://localhost:8080/"
        },
        "id": "_IPk7v_ye-ui",
        "outputId": "3ad8998f-3a98-4dd5-b038-8f1b0cb9fc6e"
      },
      "outputs": [
        {
          "output_type": "execute_result",
          "data": {
            "text/plain": [
              "8"
            ]
          },
          "metadata": {},
          "execution_count": 1
        }
      ],
      "source": [
        "#integers\n",
        "3+5 "
      ]
    },
    {
      "cell_type": "code",
      "source": [
        "#strings\n",
        "'ab' + 'cd'"
      ],
      "metadata": {
        "colab": {
          "base_uri": "https://localhost:8080/",
          "height": 35
        },
        "id": "wM1M1DB9ifIR",
        "outputId": "cea57602-a8e8-4cd9-c04f-bc8021b8dfd9"
      },
      "execution_count": null,
      "outputs": [
        {
          "output_type": "execute_result",
          "data": {
            "application/vnd.google.colaboratory.intrinsic+json": {
              "type": "string"
            },
            "text/plain": [
              "'abcd'"
            ]
          },
          "metadata": {},
          "execution_count": 3
        }
      ]
    },
    {
      "cell_type": "code",
      "source": [
        ""
      ],
      "metadata": {
        "id": "iHxiOm9fiiOx"
      },
      "execution_count": null,
      "outputs": []
    }
  ]
}